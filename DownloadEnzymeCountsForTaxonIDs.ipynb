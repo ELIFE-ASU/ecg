{
 "cells": [
  {
   "cell_type": "code",
   "execution_count": null,
   "id": "81781c6c",
   "metadata": {},
   "outputs": [],
   "source": [
    "import pandas as pd\n",
    "from Bio.KEGG import REST\n",
    "import os\n",
    "from ecg import jgi\n",
    "import json\n",
    "\n",
    "path='ETR'\n",
    "taxonIDs = [3300021974, 3300021978, 3300021980, 3300021791, 3300021979,\n",
    "            3300021975, 3300021792, 3300021977, 3300021973]\n",
    "\n",
    "J = jgi.Jgi()\n",
    "domain=\"*Microbiome\"\n",
    "dest_path = path+'/Microbiome/taxon_ids/'\n",
    "urlstart = 'https://img.jgi.doe.gov/cgi-bin/m/main.cgi?section=TaxonDetail&page=taxonDetail&taxon_oid='\n",
    "J.scrape_urls(path, domain, list([urlstart+str(i) for i in taxonIDs]))\n",
    "\n",
    "mg_enzs = dict()\n",
    "for i in os.listdir(dest_path):\n",
    "    mg_enzs[int(i.split('.')[0])] = pd.Series(dict([[e[3:],int(ct)] for e,ct in \n",
    "                              json.load(open(dest_path+i,'r'))['assembled'].items() if e]))\n",
    "repertoires = pd.DataFrame(mg_enzs).fillna(0).astype(int)\n",
    "repertoires.to_csv(path+'/EC_repertoires.csv')"
   ]
  }
 ],
 "metadata": {
  "kernelspec": {
   "display_name": "Python 3",
   "language": "python",
   "name": "python3"
  },
  "language_info": {
   "codemirror_mode": {
    "name": "ipython",
    "version": 3
   },
   "file_extension": ".py",
   "mimetype": "text/x-python",
   "name": "python",
   "nbconvert_exporter": "python",
   "pygments_lexer": "ipython3",
   "version": "3.8.8"
  }
 },
 "nbformat": 4,
 "nbformat_minor": 5
}
