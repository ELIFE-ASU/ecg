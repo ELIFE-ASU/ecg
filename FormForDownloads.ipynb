{
 "cells": [
  {
   "cell_type": "code",
   "execution_count": null,
   "id": "4d3dc956",
   "metadata": {},
   "outputs": [],
   "source": [
    "import os\n",
    "import pandas as pd\n",
    "import numpy as np\n",
    "from ecg import jgi_ko_edit as jgi\n",
    "J = jgi.Jgi()\n",
    "\n",
    "#######################################################\n",
    "\n",
    "#in what folder are inputs and outputs? must include metadata file\n",
    "folder_name = 'MetaTest'\n",
    "#what is the metadata file name?\n",
    "metadata_file = '/Users/csm/Dropbox (ASU)/Elife/People/Millsaps, Camerian/Omics/MetaMultiOmics/data/MT_MG_Comparison/Metadata_Metagenome_20231107.txt'\n",
    "#do you want ecs or kos?\n",
    "data_needed ='kos'\n",
    "#how frequently to make csv, at minimum? file writing takes time\n",
    "output_frequency = 50\n",
    "#what subset do you want? query\n",
    "query = '`Ecosystem`==\"Environmental\"'"
   ]
  },
  {
   "cell_type": "code",
   "execution_count": null,
   "id": "5c6ebd0f",
   "metadata": {},
   "outputs": [],
   "source": [
    "my_metadata = my_metadata.sort_values(by='KEGG Count', ascending=False).drop_duplicates(subset='Ecosystem Type').query(query)\n",
    "print(len(my_metadata), 'samples, ETA:', np.round((12*len(my_metadata)/60)/60,2), 'hours')"
   ]
  },
  {
   "cell_type": "code",
   "execution_count": null,
   "id": "ad3a0ee5",
   "metadata": {},
   "outputs": [],
   "source": [
    "data_urls = write_data_urls(my_metadata, data_needed, folder_name).to_dict()\n",
    "counts, status = J._scrape_urls_unsafe_alacarte(path=folder_name, domain='Metatranscriptome',\n",
    "                                                data_urls=data_urls, data_needed=data_needed, output_frequency = output_frequency)"
   ]
  }
 ],
 "metadata": {
  "kernelspec": {
   "display_name": "Python 3",
   "language": "python",
   "name": "python3"
  },
  "language_info": {
   "codemirror_mode": {
    "name": "ipython",
    "version": 3
   },
   "file_extension": ".py",
   "mimetype": "text/x-python",
   "name": "python",
   "nbconvert_exporter": "python",
   "pygments_lexer": "ipython3",
   "version": "3.8.8"
  }
 },
 "nbformat": 4,
 "nbformat_minor": 5
}
