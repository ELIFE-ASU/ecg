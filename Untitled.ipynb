{
 "cells": [
  {
   "cell_type": "code",
   "execution_count": 7,
   "metadata": {},
   "outputs": [],
   "source": [
    "from Bio.KEGG import REST"
   ]
  },
  {
   "cell_type": "code",
   "execution_count": 8,
   "metadata": {},
   "outputs": [],
   "source": [
    "raw_list = REST.kegg_info(\"kegg\")"
   ]
  },
  {
   "cell_type": "code",
   "execution_count": 9,
   "metadata": {},
   "outputs": [],
   "source": [
    "split = raw_list.read().splitlines()"
   ]
  },
  {
   "cell_type": "code",
   "execution_count": 10,
   "metadata": {},
   "outputs": [
    {
     "data": {
      "text/plain": [
       "['kegg             Kyoto Encyclopedia of Genes and Genomes',\n",
       " 'kegg             Release 90.0+/06-09, Jun 19',\n",
       " '                 Kanehisa Laboratories',\n",
       " '                 pathway     639,183 entries',\n",
       " '                 brite       224,106 entries',\n",
       " '                 module      286,250 entries',\n",
       " '                 orthology    22,813 entries',\n",
       " '                 genome        6,292 entries',\n",
       " '                 genes     29,508,262 entries',\n",
       " '                 compound     18,537 entries',\n",
       " '                 glycan       11,040 entries',\n",
       " '                 reaction     11,196 entries',\n",
       " '                 rclass        3,153 entries',\n",
       " '                 enzyme        7,564 entries',\n",
       " '                 network         850 entries',\n",
       " '                 variant         290 entries',\n",
       " '                 disease       2,313 entries',\n",
       " '                 drug         11,003 entries',\n",
       " '                 dgroup        2,217 entries',\n",
       " '                 environ         864 entries']"
      ]
     },
     "execution_count": 10,
     "metadata": {},
     "output_type": "execute_result"
    }
   ],
   "source": [
    "split"
   ]
  },
  {
   "cell_type": "code",
   "execution_count": 11,
   "metadata": {},
   "outputs": [
    {
     "data": {
      "text/plain": [
       "['kegg             Kyoto Encyclopedia of Genes and Genomes',\n",
       " 'kegg             Release 90.0+/06-09, Jun 19',\n",
       " '                 Kanehisa Laboratories',\n",
       " '                 pathway     639,183 entries',\n",
       " '                 brite       224,106 entries',\n",
       " '                 module      286,250 entries',\n",
       " '                 orthology    22,813 entries',\n",
       " '                 genome        6,292 entries',\n",
       " '                 genes     29,508,262 entries',\n",
       " '                 compound     18,537 entries',\n",
       " '                 glycan       11,040 entries',\n",
       " '                 reaction     11,196 entries',\n",
       " '                 rclass        3,153 entries',\n",
       " '                 enzyme        7,564 entries',\n",
       " '                 network         850 entries',\n",
       " '                 variant         290 entries',\n",
       " '                 disease       2,313 entries',\n",
       " '                 drug         11,003 entries',\n",
       " '                 dgroup        2,217 entries',\n",
       " '                 environ         864 entries']"
      ]
     },
     "execution_count": 11,
     "metadata": {},
     "output_type": "execute_result"
    }
   ],
   "source": [
    "split"
   ]
  },
  {
   "cell_type": "code",
   "execution_count": 3,
   "metadata": {},
   "outputs": [
    {
     "data": {
      "text/plain": [
       "<_io.TextIOWrapper encoding='utf-8'>"
      ]
     },
     "execution_count": 3,
     "metadata": {},
     "output_type": "execute_result"
    }
   ],
   "source": [
    "[s.split('\\t') for s in raw_list.read().splitlines()]"
   ]
  },
  {
   "cell_type": "code",
   "execution_count": 12,
   "metadata": {},
   "outputs": [],
   "source": [
    "dbs=[\"pathway\",\"enzyme\",\"reaction\",\"compound\"]\n",
    "release = \"Release\""
   ]
  },
  {
   "cell_type": "code",
   "execution_count": 14,
   "metadata": {},
   "outputs": [
    {
     "name": "stdout",
     "output_type": "stream",
     "text": [
      "['pathway', '639,183', 'entries']\n",
      "['enzyme', '7,564', 'entries']\n",
      "['reaction', '11,196', 'entries']\n",
      "['compound', '18,537', 'entries']\n"
     ]
    }
   ],
   "source": [
    "for db in dbs:\n",
    "    for line in split:\n",
    "        if db in line:\n",
    "            print(line.split())"
   ]
  },
  {
   "cell_type": "code",
   "execution_count": 42,
   "metadata": {},
   "outputs": [
    {
     "data": {
      "text/plain": [
       "['kegg             Kyoto Encyclopedia of Genes and Genomes',\n",
       " 'kegg             Release 90.0+/06-09, Jun 19',\n",
       " '                 Kanehisa Laboratories',\n",
       " '                 pathway     639,183 entries',\n",
       " '                 brite       224,106 entries',\n",
       " '                 module      286,250 entries',\n",
       " '                 orthology    22,813 entries',\n",
       " '                 genome        6,292 entries',\n",
       " '                 genes     29,508,262 entries',\n",
       " '                 compound     18,537 entries',\n",
       " '                 glycan       11,040 entries',\n",
       " '                 reaction     11,196 entries',\n",
       " '                 rclass        3,153 entries',\n",
       " '                 enzyme        7,564 entries',\n",
       " '                 network         850 entries',\n",
       " '                 variant         290 entries',\n",
       " '                 disease       2,313 entries',\n",
       " '                 drug         11,003 entries',\n",
       " '                 dgroup        2,217 entries',\n",
       " '                 environ         864 entries']"
      ]
     },
     "execution_count": 42,
     "metadata": {},
     "output_type": "execute_result"
    }
   ],
   "source": [
    "split"
   ]
  },
  {
   "cell_type": "code",
   "execution_count": 59,
   "metadata": {},
   "outputs": [],
   "source": [
    "dbkeys_count = dict()\n",
    "for line in split:\n",
    "    split_line = line.split()\n",
    "    overlap = set(dbs) & set(split_line)\n",
    "    if release in split_line:\n",
    "        release_short = float(split_line[2].split(\"/\")[0][:-1])\n",
    "        release_long = [split_line[2][:-1]]+split_line[3:]\n",
    "        release_long = (\"_\").join(release_long)\n",
    "    elif overlap:\n",
    "        dbkeys_count[split_line[0]] = int(split_line[1].replace(',' , ''))"
   ]
  },
  {
   "cell_type": "code",
   "execution_count": 60,
   "metadata": {},
   "outputs": [
    {
     "name": "stdout",
     "output_type": "stream",
     "text": [
      "90.0\n",
      "90.0+/06-09_Jun_19\n",
      "pathway 639183\n",
      "compound 18537\n",
      "reaction 11196\n",
      "enzyme 7564\n"
     ]
    }
   ],
   "source": [
    "print(release_short)\n",
    "print(release_long)\n",
    "for k in dbkeys_count:\n",
    "    print(k,dbkeys_count[k])"
   ]
  },
  {
   "cell_type": "code",
   "execution_count": 18,
   "metadata": {},
   "outputs": [
    {
     "data": {
      "text/plain": [
       "[2, 3]"
      ]
     },
     "execution_count": 18,
     "metadata": {},
     "output_type": "execute_result"
    }
   ],
   "source": [
    "list(range(5))[2:4]"
   ]
  },
  {
   "cell_type": "code",
   "execution_count": 38,
   "metadata": {},
   "outputs": [
    {
     "name": "stdout",
     "output_type": "stream",
     "text": [
      "compound\n"
     ]
    }
   ],
   "source": [
    "overlap = set(dbs) & set(['compound', '18,537', 'entries'])\n",
    "if overlap:\n",
    "    print(list(overlap)[0])"
   ]
  },
  {
   "cell_type": "code",
   "execution_count": 31,
   "metadata": {},
   "outputs": [],
   "source": [
    "if {}:\n",
    "    print(\"True\")"
   ]
  },
  {
   "cell_type": "code",
   "execution_count": 64,
   "metadata": {},
   "outputs": [
    {
     "data": {
      "text/plain": [
       "{'compound', 'enzyme', 'pathway', 'reaction'}"
      ]
     },
     "execution_count": 64,
     "metadata": {},
     "output_type": "execute_result"
    }
   ],
   "source": [
    "set(dbkeys_count.keys())"
   ]
  },
  {
   "cell_type": "code",
   "execution_count": null,
   "metadata": {},
   "outputs": [],
   "source": []
  }
 ],
 "metadata": {
  "kernelspec": {
   "display_name": "Python 3",
   "language": "python",
   "name": "python3"
  },
  "language_info": {
   "codemirror_mode": {
    "name": "ipython",
    "version": 3
   },
   "file_extension": ".py",
   "mimetype": "text/x-python",
   "name": "python",
   "nbconvert_exporter": "python",
   "pygments_lexer": "ipython3",
   "version": "3.7.3"
  }
 },
 "nbformat": 4,
 "nbformat_minor": 2
}
